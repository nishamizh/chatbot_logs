{
 "cells": [
  {
   "cell_type": "markdown",
   "id": "e3a52366-ff35-486e-b741-2e51934d3205",
   "metadata": {},
   "source": [
    "# Data Pre Processing and Modelling"
   ]
  },
  {
   "cell_type": "markdown",
   "id": "163a1d2b-2ab0-4183-8698-2d3b2900ea69",
   "metadata": {},
   "source": [
    "### Pre-Processing"
   ]
  },
  {
   "cell_type": "code",
   "execution_count": 34,
   "id": "387dbaa3-6b6a-4d77-a0c1-2f5185e8b56c",
   "metadata": {},
   "outputs": [],
   "source": [
    "import numpy as np\n",
    "import pandas as pd\n",
    "\n",
    "from sklearn.model_selection import train_test_split\n",
    "from fastapi import FastAPI, Request\n",
    "from transformers import AutoTokenizer, AutoModelForSequenceClassification\n",
    "import torch"
   ]
  },
  {
   "cell_type": "code",
   "execution_count": 35,
   "id": "9d0b7ad2-20dc-426c-8d01-36c00f50eb12",
   "metadata": {},
   "outputs": [],
   "source": [
    "data = pd.read_csv('data_wrangled_EDA_logs.csv')"
   ]
  },
  {
   "cell_type": "code",
   "execution_count": 36,
   "id": "c02b3e72-c45f-41e5-b069-57ea5e6cce67",
   "metadata": {},
   "outputs": [
    {
     "data": {
      "text/html": [
       "<div>\n",
       "<style scoped>\n",
       "    .dataframe tbody tr th:only-of-type {\n",
       "        vertical-align: middle;\n",
       "    }\n",
       "\n",
       "    .dataframe tbody tr th {\n",
       "        vertical-align: top;\n",
       "    }\n",
       "\n",
       "    .dataframe thead th {\n",
       "        text-align: right;\n",
       "    }\n",
       "</style>\n",
       "<table border=\"1\" class=\"dataframe\">\n",
       "  <thead>\n",
       "    <tr style=\"text-align: right;\">\n",
       "      <th></th>\n",
       "      <th>LineId</th>\n",
       "      <th>Date</th>\n",
       "      <th>Time</th>\n",
       "      <th>Level</th>\n",
       "      <th>Component</th>\n",
       "      <th>Content</th>\n",
       "      <th>EventId</th>\n",
       "      <th>EventTemplate</th>\n",
       "      <th>LogType</th>\n",
       "      <th>AdditionalInformation</th>\n",
       "      <th>timestamp</th>\n",
       "      <th>input</th>\n",
       "      <th>tokens</th>\n",
       "      <th>Hour</th>\n",
       "      <th>Token_Count</th>\n",
       "    </tr>\n",
       "  </thead>\n",
       "  <tbody>\n",
       "    <tr>\n",
       "      <th>0</th>\n",
       "      <td>1</td>\n",
       "      <td>2015-10-18</td>\n",
       "      <td>18:01:47,978</td>\n",
       "      <td>INFO</td>\n",
       "      <td>org.apache.hadoop.mapreduce.v2.app.MRAppMaster</td>\n",
       "      <td>Created MRAppMaster for application appattempt...</td>\n",
       "      <td>E29</td>\n",
       "      <td>created mrappmaster for application appattempt...</td>\n",
       "      <td>hadoop</td>\n",
       "      <td>Process: main</td>\n",
       "      <td>2015-10-18 18:01:47.978</td>\n",
       "      <td>{\"Timestamp\": \"2015-10-18T18:01:47.978000\", \"L...</td>\n",
       "      <td>['created', 'mr', '##app', '##master', 'for', ...</td>\n",
       "      <td>18</td>\n",
       "      <td>12</td>\n",
       "    </tr>\n",
       "    <tr>\n",
       "      <th>1</th>\n",
       "      <td>2</td>\n",
       "      <td>2015-10-18</td>\n",
       "      <td>18:01:48,963</td>\n",
       "      <td>INFO</td>\n",
       "      <td>org.apache.hadoop.mapreduce.v2.app.MRAppMaster</td>\n",
       "      <td>Executing with tokens:</td>\n",
       "      <td>E42</td>\n",
       "      <td>executing with tokens:</td>\n",
       "      <td>hadoop</td>\n",
       "      <td>Process: main</td>\n",
       "      <td>2015-10-18 18:01:48.963</td>\n",
       "      <td>{\"Timestamp\": \"2015-10-18T18:01:48.963000\", \"L...</td>\n",
       "      <td>['executing', 'with', 'token', '##s', ':']</td>\n",
       "      <td>18</td>\n",
       "      <td>5</td>\n",
       "    </tr>\n",
       "    <tr>\n",
       "      <th>2</th>\n",
       "      <td>3</td>\n",
       "      <td>2015-10-18</td>\n",
       "      <td>18:01:48,963</td>\n",
       "      <td>INFO</td>\n",
       "      <td>org.apache.hadoop.mapreduce.v2.app.MRAppMaster</td>\n",
       "      <td>Kind: YARN_AM_RM_TOKEN, Service: , Ident: (app...</td>\n",
       "      <td>E61</td>\n",
       "      <td>kind: yarn_am_rm_token, service: , ident: (app...</td>\n",
       "      <td>hadoop</td>\n",
       "      <td>Process: main</td>\n",
       "      <td>2015-10-18 18:01:48.963</td>\n",
       "      <td>{\"Timestamp\": \"2015-10-18T18:01:48.963000\", \"L...</td>\n",
       "      <td>['kind', ':', 'yarn', '_', 'am', '_', 'rm', '_...</td>\n",
       "      <td>18</td>\n",
       "      <td>44</td>\n",
       "    </tr>\n",
       "    <tr>\n",
       "      <th>3</th>\n",
       "      <td>4</td>\n",
       "      <td>2015-10-18</td>\n",
       "      <td>18:01:49,228</td>\n",
       "      <td>INFO</td>\n",
       "      <td>org.apache.hadoop.mapreduce.v2.app.MRAppMaster</td>\n",
       "      <td>Using mapred newApiCommitter.</td>\n",
       "      <td>E111</td>\n",
       "      <td>using mapred newapicommitter.</td>\n",
       "      <td>hadoop</td>\n",
       "      <td>Process: main</td>\n",
       "      <td>2015-10-18 18:01:49.228</td>\n",
       "      <td>{\"Timestamp\": \"2015-10-18T18:01:49.228000\", \"L...</td>\n",
       "      <td>['using', 'map', '##red', 'new', '##ap', '##ic...</td>\n",
       "      <td>18</td>\n",
       "      <td>10</td>\n",
       "    </tr>\n",
       "    <tr>\n",
       "      <th>4</th>\n",
       "      <td>5</td>\n",
       "      <td>2015-10-18</td>\n",
       "      <td>18:01:50,353</td>\n",
       "      <td>INFO</td>\n",
       "      <td>org.apache.hadoop.mapreduce.v2.app.MRAppMaster</td>\n",
       "      <td>OutputCommitter set in config null</td>\n",
       "      <td>E76</td>\n",
       "      <td>outputcommitter set in config null</td>\n",
       "      <td>hadoop</td>\n",
       "      <td>Process: main</td>\n",
       "      <td>2015-10-18 18:01:50.353</td>\n",
       "      <td>{\"Timestamp\": \"2015-10-18T18:01:50.353000\", \"L...</td>\n",
       "      <td>['output', '##com', '##mit', '##ter', 'set', '...</td>\n",
       "      <td>18</td>\n",
       "      <td>10</td>\n",
       "    </tr>\n",
       "  </tbody>\n",
       "</table>\n",
       "</div>"
      ],
      "text/plain": [
       "   LineId        Date          Time Level  \\\n",
       "0       1  2015-10-18  18:01:47,978  INFO   \n",
       "1       2  2015-10-18  18:01:48,963  INFO   \n",
       "2       3  2015-10-18  18:01:48,963  INFO   \n",
       "3       4  2015-10-18  18:01:49,228  INFO   \n",
       "4       5  2015-10-18  18:01:50,353  INFO   \n",
       "\n",
       "                                        Component  \\\n",
       "0  org.apache.hadoop.mapreduce.v2.app.MRAppMaster   \n",
       "1  org.apache.hadoop.mapreduce.v2.app.MRAppMaster   \n",
       "2  org.apache.hadoop.mapreduce.v2.app.MRAppMaster   \n",
       "3  org.apache.hadoop.mapreduce.v2.app.MRAppMaster   \n",
       "4  org.apache.hadoop.mapreduce.v2.app.MRAppMaster   \n",
       "\n",
       "                                             Content EventId  \\\n",
       "0  Created MRAppMaster for application appattempt...     E29   \n",
       "1                             Executing with tokens:     E42   \n",
       "2  Kind: YARN_AM_RM_TOKEN, Service: , Ident: (app...     E61   \n",
       "3                      Using mapred newApiCommitter.    E111   \n",
       "4                 OutputCommitter set in config null     E76   \n",
       "\n",
       "                                       EventTemplate LogType  \\\n",
       "0  created mrappmaster for application appattempt...  hadoop   \n",
       "1                             executing with tokens:  hadoop   \n",
       "2  kind: yarn_am_rm_token, service: , ident: (app...  hadoop   \n",
       "3                      using mapred newapicommitter.  hadoop   \n",
       "4                 outputcommitter set in config null  hadoop   \n",
       "\n",
       "  AdditionalInformation                timestamp  \\\n",
       "0         Process: main  2015-10-18 18:01:47.978   \n",
       "1         Process: main  2015-10-18 18:01:48.963   \n",
       "2         Process: main  2015-10-18 18:01:48.963   \n",
       "3         Process: main  2015-10-18 18:01:49.228   \n",
       "4         Process: main  2015-10-18 18:01:50.353   \n",
       "\n",
       "                                               input  \\\n",
       "0  {\"Timestamp\": \"2015-10-18T18:01:47.978000\", \"L...   \n",
       "1  {\"Timestamp\": \"2015-10-18T18:01:48.963000\", \"L...   \n",
       "2  {\"Timestamp\": \"2015-10-18T18:01:48.963000\", \"L...   \n",
       "3  {\"Timestamp\": \"2015-10-18T18:01:49.228000\", \"L...   \n",
       "4  {\"Timestamp\": \"2015-10-18T18:01:50.353000\", \"L...   \n",
       "\n",
       "                                              tokens  Hour  Token_Count  \n",
       "0  ['created', 'mr', '##app', '##master', 'for', ...    18           12  \n",
       "1         ['executing', 'with', 'token', '##s', ':']    18            5  \n",
       "2  ['kind', ':', 'yarn', '_', 'am', '_', 'rm', '_...    18           44  \n",
       "3  ['using', 'map', '##red', 'new', '##ap', '##ic...    18           10  \n",
       "4  ['output', '##com', '##mit', '##ter', 'set', '...    18           10  "
      ]
     },
     "execution_count": 36,
     "metadata": {},
     "output_type": "execute_result"
    }
   ],
   "source": [
    "data.head()"
   ]
  },
  {
   "cell_type": "code",
   "execution_count": 66,
   "id": "853810c2-9145-4f3a-84f0-b095d7e36b30",
   "metadata": {},
   "outputs": [
    {
     "data": {
      "text/plain": [
       "Level\n",
       "WARN     2126\n",
       "INFO     1709\n",
       "ERROR     163\n",
       "FATAL       2\n",
       "Name: count, dtype: int64"
      ]
     },
     "execution_count": 66,
     "metadata": {},
     "output_type": "execute_result"
    }
   ],
   "source": [
    "data['Level'].value_counts()"
   ]
  },
  {
   "cell_type": "code",
   "execution_count": 37,
   "id": "8ffca0f6-39f7-449f-9db1-2be2c8a31ff7",
   "metadata": {},
   "outputs": [
    {
     "data": {
      "text/html": [
       "<div>\n",
       "<style scoped>\n",
       "    .dataframe tbody tr th:only-of-type {\n",
       "        vertical-align: middle;\n",
       "    }\n",
       "\n",
       "    .dataframe tbody tr th {\n",
       "        vertical-align: top;\n",
       "    }\n",
       "\n",
       "    .dataframe thead th {\n",
       "        text-align: right;\n",
       "    }\n",
       "</style>\n",
       "<table border=\"1\" class=\"dataframe\">\n",
       "  <thead>\n",
       "    <tr style=\"text-align: right;\">\n",
       "      <th></th>\n",
       "      <th>LineId</th>\n",
       "      <th>Date</th>\n",
       "      <th>Time</th>\n",
       "      <th>Level</th>\n",
       "      <th>Component</th>\n",
       "      <th>Content</th>\n",
       "      <th>EventId</th>\n",
       "      <th>EventTemplate</th>\n",
       "      <th>LogType</th>\n",
       "      <th>AdditionalInformation</th>\n",
       "      <th>timestamp</th>\n",
       "      <th>input</th>\n",
       "      <th>tokens</th>\n",
       "      <th>Hour</th>\n",
       "      <th>Token_Count</th>\n",
       "    </tr>\n",
       "  </thead>\n",
       "  <tbody>\n",
       "    <tr>\n",
       "      <th>847</th>\n",
       "      <td>848</td>\n",
       "      <td>2015-10-18</td>\n",
       "      <td>18:05:27,570</td>\n",
       "      <td>WARN</td>\n",
       "      <td>org.apache.hadoop.ipc.Client</td>\n",
       "      <td>Address change detected. Old: msra-sa-41/10.19...</td>\n",
       "      <td>E10</td>\n",
       "      <td>address change detected. old: &lt;var&gt;/&lt;var&gt;:&lt;var...</td>\n",
       "      <td>hadoop</td>\n",
       "      <td>Process: LeaseRenewer:msrabi@msra-sa-41:9000</td>\n",
       "      <td>2015-10-18 18:05:27.570</td>\n",
       "      <td>{\"Timestamp\": \"2015-10-18T18:05:27.570000\", \"L...</td>\n",
       "      <td>['address', 'change', 'detected', '.', 'old', ...</td>\n",
       "      <td>18</td>\n",
       "      <td>16</td>\n",
       "    </tr>\n",
       "    <tr>\n",
       "      <th>848</th>\n",
       "      <td>849</td>\n",
       "      <td>2015-10-18</td>\n",
       "      <td>18:05:27,570</td>\n",
       "      <td>WARN</td>\n",
       "      <td>org.apache.hadoop.hdfs.LeaseRenewer</td>\n",
       "      <td>Failed to renew lease for [DFSClient_NONMAPRED...</td>\n",
       "      <td>E44</td>\n",
       "      <td>failed to renew lease for [dfsclient_nonmapred...</td>\n",
       "      <td>hadoop</td>\n",
       "      <td>Process: LeaseRenewer:msrabi@msra-sa-41:9000</td>\n",
       "      <td>2015-10-18 18:05:27.570</td>\n",
       "      <td>{\"Timestamp\": \"2015-10-18T18:05:27.570000\", \"L...</td>\n",
       "      <td>['failed', 'to', 'renew', 'lease', 'for', '[',...</td>\n",
       "      <td>18</td>\n",
       "      <td>32</td>\n",
       "    </tr>\n",
       "    <tr>\n",
       "      <th>849</th>\n",
       "      <td>850</td>\n",
       "      <td>2015-10-18</td>\n",
       "      <td>18:05:28,570</td>\n",
       "      <td>WARN</td>\n",
       "      <td>org.apache.hadoop.ipc.Client</td>\n",
       "      <td>Address change detected. Old: msra-sa-41/10.19...</td>\n",
       "      <td>E10</td>\n",
       "      <td>address change detected. old: &lt;var&gt;/&lt;var&gt;:&lt;var...</td>\n",
       "      <td>hadoop</td>\n",
       "      <td>Process: LeaseRenewer:msrabi@msra-sa-41:9000</td>\n",
       "      <td>2015-10-18 18:05:28.570</td>\n",
       "      <td>{\"Timestamp\": \"2015-10-18T18:05:28.570000\", \"L...</td>\n",
       "      <td>['address', 'change', 'detected', '.', 'old', ...</td>\n",
       "      <td>18</td>\n",
       "      <td>16</td>\n",
       "    </tr>\n",
       "    <tr>\n",
       "      <th>850</th>\n",
       "      <td>851</td>\n",
       "      <td>2015-10-18</td>\n",
       "      <td>18:05:28,570</td>\n",
       "      <td>WARN</td>\n",
       "      <td>org.apache.hadoop.hdfs.LeaseRenewer</td>\n",
       "      <td>Failed to renew lease for [DFSClient_NONMAPRED...</td>\n",
       "      <td>E44</td>\n",
       "      <td>failed to renew lease for [dfsclient_nonmapred...</td>\n",
       "      <td>hadoop</td>\n",
       "      <td>Process: LeaseRenewer:msrabi@msra-sa-41:9000</td>\n",
       "      <td>2015-10-18 18:05:28.570</td>\n",
       "      <td>{\"Timestamp\": \"2015-10-18T18:05:28.570000\", \"L...</td>\n",
       "      <td>['failed', 'to', 'renew', 'lease', 'for', '[',...</td>\n",
       "      <td>18</td>\n",
       "      <td>32</td>\n",
       "    </tr>\n",
       "    <tr>\n",
       "      <th>851</th>\n",
       "      <td>852</td>\n",
       "      <td>2015-10-18</td>\n",
       "      <td>18:05:29,570</td>\n",
       "      <td>WARN</td>\n",
       "      <td>org.apache.hadoop.ipc.Client</td>\n",
       "      <td>Address change detected. Old: msra-sa-41/10.19...</td>\n",
       "      <td>E10</td>\n",
       "      <td>address change detected. old: &lt;var&gt;/&lt;var&gt;:&lt;var...</td>\n",
       "      <td>hadoop</td>\n",
       "      <td>Process: LeaseRenewer:msrabi@msra-sa-41:9000</td>\n",
       "      <td>2015-10-18 18:05:29.570</td>\n",
       "      <td>{\"Timestamp\": \"2015-10-18T18:05:29.570000\", \"L...</td>\n",
       "      <td>['address', 'change', 'detected', '.', 'old', ...</td>\n",
       "      <td>18</td>\n",
       "      <td>16</td>\n",
       "    </tr>\n",
       "    <tr>\n",
       "      <th>...</th>\n",
       "      <td>...</td>\n",
       "      <td>...</td>\n",
       "      <td>...</td>\n",
       "      <td>...</td>\n",
       "      <td>...</td>\n",
       "      <td>...</td>\n",
       "      <td>...</td>\n",
       "      <td>...</td>\n",
       "      <td>...</td>\n",
       "      <td>...</td>\n",
       "      <td>...</td>\n",
       "      <td>...</td>\n",
       "      <td>...</td>\n",
       "      <td>...</td>\n",
       "      <td>...</td>\n",
       "    </tr>\n",
       "    <tr>\n",
       "      <th>3970</th>\n",
       "      <td>1971</td>\n",
       "      <td>2015-07-30</td>\n",
       "      <td>20:36:32,026</td>\n",
       "      <td>WARN</td>\n",
       "      <td>0.0.0.0/0.0.0.0:2181:ZooKeeperServer</td>\n",
       "      <td>Connection request from old client /10.10.34.1...</td>\n",
       "      <td>E12</td>\n",
       "      <td>connection request from old client /&lt;var&gt;:&lt;var...</td>\n",
       "      <td>zookeeper</td>\n",
       "      <td>Node: NIOServerCxn.Factory Id: 793</td>\n",
       "      <td>2015-07-30 20:36:32.026</td>\n",
       "      <td>{\"Timestamp\": \"2015-07-30T20:36:32.026000\", \"L...</td>\n",
       "      <td>['connection', 'request', 'from', 'old', 'clie...</td>\n",
       "      <td>20</td>\n",
       "      <td>21</td>\n",
       "    </tr>\n",
       "    <tr>\n",
       "      <th>3973</th>\n",
       "      <td>1974</td>\n",
       "      <td>2015-07-30</td>\n",
       "      <td>23:03:42,330</td>\n",
       "      <td>WARN</td>\n",
       "      <td>0.0.0.0/0.0.0.0:2181:NIOServerCnxn</td>\n",
       "      <td>caught end of stream exception</td>\n",
       "      <td>E6</td>\n",
       "      <td>caught end of stream exception</td>\n",
       "      <td>zookeeper</td>\n",
       "      <td>Node: NIOServerCxn.Factory Id: 349</td>\n",
       "      <td>2015-07-30 23:03:42.330</td>\n",
       "      <td>{\"Timestamp\": \"2015-07-30T23:03:42.330000\", \"L...</td>\n",
       "      <td>['caught', 'end', 'of', 'stream', 'exception']</td>\n",
       "      <td>23</td>\n",
       "      <td>5</td>\n",
       "    </tr>\n",
       "    <tr>\n",
       "      <th>3981</th>\n",
       "      <td>1982</td>\n",
       "      <td>2015-07-31</td>\n",
       "      <td>00:16:12,152</td>\n",
       "      <td>WARN</td>\n",
       "      <td>0.0.0.0/0.0.0.0:2181:NIOServerCnxn</td>\n",
       "      <td>caught end of stream exception</td>\n",
       "      <td>E6</td>\n",
       "      <td>caught end of stream exception</td>\n",
       "      <td>zookeeper</td>\n",
       "      <td>Node: NIOServerCxn.Factory Id: 349</td>\n",
       "      <td>2015-07-31 00:16:12.152</td>\n",
       "      <td>{\"Timestamp\": \"2015-07-31T00:16:12.152000\", \"L...</td>\n",
       "      <td>['caught', 'end', 'of', 'stream', 'exception']</td>\n",
       "      <td>0</td>\n",
       "      <td>5</td>\n",
       "    </tr>\n",
       "    <tr>\n",
       "      <th>3985</th>\n",
       "      <td>1986</td>\n",
       "      <td>2015-07-31</td>\n",
       "      <td>11:09:02,264</td>\n",
       "      <td>WARN</td>\n",
       "      <td>0.0.0.0/0.0.0.0:2181:ZooKeeperServer</td>\n",
       "      <td>Connection request from old client /10.10.34.3...</td>\n",
       "      <td>E12</td>\n",
       "      <td>connection request from old client /&lt;var&gt;:&lt;var...</td>\n",
       "      <td>zookeeper</td>\n",
       "      <td>Node: NIOServerCxn.Factory Id: 793</td>\n",
       "      <td>2015-07-31 11:09:02.264</td>\n",
       "      <td>{\"Timestamp\": \"2015-07-31T11:09:02.264000\", \"L...</td>\n",
       "      <td>['connection', 'request', 'from', 'old', 'clie...</td>\n",
       "      <td>11</td>\n",
       "      <td>21</td>\n",
       "    </tr>\n",
       "    <tr>\n",
       "      <th>3986</th>\n",
       "      <td>1987</td>\n",
       "      <td>2015-07-31</td>\n",
       "      <td>11:09:02,548</td>\n",
       "      <td>WARN</td>\n",
       "      <td>0.0.0.0/0.0.0.0:2181:ZooKeeperServer</td>\n",
       "      <td>Connection request from old client /10.10.34.3...</td>\n",
       "      <td>E12</td>\n",
       "      <td>connection request from old client /&lt;var&gt;:&lt;var...</td>\n",
       "      <td>zookeeper</td>\n",
       "      <td>Node: NIOServerCxn.Factory Id: 793</td>\n",
       "      <td>2015-07-31 11:09:02.548</td>\n",
       "      <td>{\"Timestamp\": \"2015-07-31T11:09:02.548000\", \"L...</td>\n",
       "      <td>['connection', 'request', 'from', 'old', 'clie...</td>\n",
       "      <td>11</td>\n",
       "      <td>21</td>\n",
       "    </tr>\n",
       "  </tbody>\n",
       "</table>\n",
       "<p>2126 rows × 15 columns</p>\n",
       "</div>"
      ],
      "text/plain": [
       "      LineId        Date          Time Level  \\\n",
       "847      848  2015-10-18  18:05:27,570  WARN   \n",
       "848      849  2015-10-18  18:05:27,570  WARN   \n",
       "849      850  2015-10-18  18:05:28,570  WARN   \n",
       "850      851  2015-10-18  18:05:28,570  WARN   \n",
       "851      852  2015-10-18  18:05:29,570  WARN   \n",
       "...      ...         ...           ...   ...   \n",
       "3970    1971  2015-07-30  20:36:32,026  WARN   \n",
       "3973    1974  2015-07-30  23:03:42,330  WARN   \n",
       "3981    1982  2015-07-31  00:16:12,152  WARN   \n",
       "3985    1986  2015-07-31  11:09:02,264  WARN   \n",
       "3986    1987  2015-07-31  11:09:02,548  WARN   \n",
       "\n",
       "                                 Component  \\\n",
       "847           org.apache.hadoop.ipc.Client   \n",
       "848    org.apache.hadoop.hdfs.LeaseRenewer   \n",
       "849           org.apache.hadoop.ipc.Client   \n",
       "850    org.apache.hadoop.hdfs.LeaseRenewer   \n",
       "851           org.apache.hadoop.ipc.Client   \n",
       "...                                    ...   \n",
       "3970  0.0.0.0/0.0.0.0:2181:ZooKeeperServer   \n",
       "3973    0.0.0.0/0.0.0.0:2181:NIOServerCnxn   \n",
       "3981    0.0.0.0/0.0.0.0:2181:NIOServerCnxn   \n",
       "3985  0.0.0.0/0.0.0.0:2181:ZooKeeperServer   \n",
       "3986  0.0.0.0/0.0.0.0:2181:ZooKeeperServer   \n",
       "\n",
       "                                                Content EventId  \\\n",
       "847   Address change detected. Old: msra-sa-41/10.19...     E10   \n",
       "848   Failed to renew lease for [DFSClient_NONMAPRED...     E44   \n",
       "849   Address change detected. Old: msra-sa-41/10.19...     E10   \n",
       "850   Failed to renew lease for [DFSClient_NONMAPRED...     E44   \n",
       "851   Address change detected. Old: msra-sa-41/10.19...     E10   \n",
       "...                                                 ...     ...   \n",
       "3970  Connection request from old client /10.10.34.1...     E12   \n",
       "3973                     caught end of stream exception      E6   \n",
       "3981                     caught end of stream exception      E6   \n",
       "3985  Connection request from old client /10.10.34.3...     E12   \n",
       "3986  Connection request from old client /10.10.34.3...     E12   \n",
       "\n",
       "                                          EventTemplate    LogType  \\\n",
       "847   address change detected. old: <var>/<var>:<var...     hadoop   \n",
       "848   failed to renew lease for [dfsclient_nonmapred...     hadoop   \n",
       "849   address change detected. old: <var>/<var>:<var...     hadoop   \n",
       "850   failed to renew lease for [dfsclient_nonmapred...     hadoop   \n",
       "851   address change detected. old: <var>/<var>:<var...     hadoop   \n",
       "...                                                 ...        ...   \n",
       "3970  connection request from old client /<var>:<var...  zookeeper   \n",
       "3973                     caught end of stream exception  zookeeper   \n",
       "3981                     caught end of stream exception  zookeeper   \n",
       "3985  connection request from old client /<var>:<var...  zookeeper   \n",
       "3986  connection request from old client /<var>:<var...  zookeeper   \n",
       "\n",
       "                             AdditionalInformation                timestamp  \\\n",
       "847   Process: LeaseRenewer:msrabi@msra-sa-41:9000  2015-10-18 18:05:27.570   \n",
       "848   Process: LeaseRenewer:msrabi@msra-sa-41:9000  2015-10-18 18:05:27.570   \n",
       "849   Process: LeaseRenewer:msrabi@msra-sa-41:9000  2015-10-18 18:05:28.570   \n",
       "850   Process: LeaseRenewer:msrabi@msra-sa-41:9000  2015-10-18 18:05:28.570   \n",
       "851   Process: LeaseRenewer:msrabi@msra-sa-41:9000  2015-10-18 18:05:29.570   \n",
       "...                                            ...                      ...   \n",
       "3970            Node: NIOServerCxn.Factory Id: 793  2015-07-30 20:36:32.026   \n",
       "3973            Node: NIOServerCxn.Factory Id: 349  2015-07-30 23:03:42.330   \n",
       "3981            Node: NIOServerCxn.Factory Id: 349  2015-07-31 00:16:12.152   \n",
       "3985            Node: NIOServerCxn.Factory Id: 793  2015-07-31 11:09:02.264   \n",
       "3986            Node: NIOServerCxn.Factory Id: 793  2015-07-31 11:09:02.548   \n",
       "\n",
       "                                                  input  \\\n",
       "847   {\"Timestamp\": \"2015-10-18T18:05:27.570000\", \"L...   \n",
       "848   {\"Timestamp\": \"2015-10-18T18:05:27.570000\", \"L...   \n",
       "849   {\"Timestamp\": \"2015-10-18T18:05:28.570000\", \"L...   \n",
       "850   {\"Timestamp\": \"2015-10-18T18:05:28.570000\", \"L...   \n",
       "851   {\"Timestamp\": \"2015-10-18T18:05:29.570000\", \"L...   \n",
       "...                                                 ...   \n",
       "3970  {\"Timestamp\": \"2015-07-30T20:36:32.026000\", \"L...   \n",
       "3973  {\"Timestamp\": \"2015-07-30T23:03:42.330000\", \"L...   \n",
       "3981  {\"Timestamp\": \"2015-07-31T00:16:12.152000\", \"L...   \n",
       "3985  {\"Timestamp\": \"2015-07-31T11:09:02.264000\", \"L...   \n",
       "3986  {\"Timestamp\": \"2015-07-31T11:09:02.548000\", \"L...   \n",
       "\n",
       "                                                 tokens  Hour  Token_Count  \n",
       "847   ['address', 'change', 'detected', '.', 'old', ...    18           16  \n",
       "848   ['failed', 'to', 'renew', 'lease', 'for', '[',...    18           32  \n",
       "849   ['address', 'change', 'detected', '.', 'old', ...    18           16  \n",
       "850   ['failed', 'to', 'renew', 'lease', 'for', '[',...    18           32  \n",
       "851   ['address', 'change', 'detected', '.', 'old', ...    18           16  \n",
       "...                                                 ...   ...          ...  \n",
       "3970  ['connection', 'request', 'from', 'old', 'clie...    20           21  \n",
       "3973     ['caught', 'end', 'of', 'stream', 'exception']    23            5  \n",
       "3981     ['caught', 'end', 'of', 'stream', 'exception']     0            5  \n",
       "3985  ['connection', 'request', 'from', 'old', 'clie...    11           21  \n",
       "3986  ['connection', 'request', 'from', 'old', 'clie...    11           21  \n",
       "\n",
       "[2126 rows x 15 columns]"
      ]
     },
     "execution_count": 37,
     "metadata": {},
     "output_type": "execute_result"
    }
   ],
   "source": [
    "warn_data = data[data['Level']=='WARN']\n",
    "warn_data"
   ]
  },
  {
   "cell_type": "code",
   "execution_count": 64,
   "id": "0186b9b5-0101-4f5b-852b-a2dca45fc097",
   "metadata": {},
   "outputs": [
    {
     "data": {
      "text/html": [
       "<div>\n",
       "<style scoped>\n",
       "    .dataframe tbody tr th:only-of-type {\n",
       "        vertical-align: middle;\n",
       "    }\n",
       "\n",
       "    .dataframe tbody tr th {\n",
       "        vertical-align: top;\n",
       "    }\n",
       "\n",
       "    .dataframe thead th {\n",
       "        text-align: right;\n",
       "    }\n",
       "</style>\n",
       "<table border=\"1\" class=\"dataframe\">\n",
       "  <thead>\n",
       "    <tr style=\"text-align: right;\">\n",
       "      <th></th>\n",
       "      <th>LineId</th>\n",
       "      <th>Date</th>\n",
       "      <th>Time</th>\n",
       "      <th>Level</th>\n",
       "      <th>Component</th>\n",
       "      <th>Content</th>\n",
       "      <th>EventId</th>\n",
       "      <th>EventTemplate</th>\n",
       "      <th>LogType</th>\n",
       "      <th>AdditionalInformation</th>\n",
       "      <th>timestamp</th>\n",
       "      <th>input</th>\n",
       "      <th>tokens</th>\n",
       "      <th>Hour</th>\n",
       "      <th>Token_Count</th>\n",
       "      <th>target</th>\n",
       "    </tr>\n",
       "  </thead>\n",
       "  <tbody>\n",
       "    <tr>\n",
       "      <th>0</th>\n",
       "      <td>1</td>\n",
       "      <td>2015-10-18</td>\n",
       "      <td>18:01:47,978</td>\n",
       "      <td>INFO</td>\n",
       "      <td>org.apache.hadoop.mapreduce.v2.app.MRAppMaster</td>\n",
       "      <td>Created MRAppMaster for application appattempt...</td>\n",
       "      <td>E29</td>\n",
       "      <td>created mrappmaster for application appattempt...</td>\n",
       "      <td>hadoop</td>\n",
       "      <td>Process: main</td>\n",
       "      <td>2015-10-18 18:01:47.978</td>\n",
       "      <td>{\"Timestamp\": \"2015-10-18T18:01:47.978000\", \"L...</td>\n",
       "      <td>['created', 'mr', '##app', '##master', 'for', ...</td>\n",
       "      <td>18</td>\n",
       "      <td>12</td>\n",
       "      <td>2</td>\n",
       "    </tr>\n",
       "    <tr>\n",
       "      <th>1</th>\n",
       "      <td>2</td>\n",
       "      <td>2015-10-18</td>\n",
       "      <td>18:01:48,963</td>\n",
       "      <td>INFO</td>\n",
       "      <td>org.apache.hadoop.mapreduce.v2.app.MRAppMaster</td>\n",
       "      <td>Executing with tokens:</td>\n",
       "      <td>E42</td>\n",
       "      <td>executing with tokens:</td>\n",
       "      <td>hadoop</td>\n",
       "      <td>Process: main</td>\n",
       "      <td>2015-10-18 18:01:48.963</td>\n",
       "      <td>{\"Timestamp\": \"2015-10-18T18:01:48.963000\", \"L...</td>\n",
       "      <td>['executing', 'with', 'token', '##s', ':']</td>\n",
       "      <td>18</td>\n",
       "      <td>5</td>\n",
       "      <td>2</td>\n",
       "    </tr>\n",
       "    <tr>\n",
       "      <th>2</th>\n",
       "      <td>3</td>\n",
       "      <td>2015-10-18</td>\n",
       "      <td>18:01:48,963</td>\n",
       "      <td>INFO</td>\n",
       "      <td>org.apache.hadoop.mapreduce.v2.app.MRAppMaster</td>\n",
       "      <td>Kind: YARN_AM_RM_TOKEN, Service: , Ident: (app...</td>\n",
       "      <td>E61</td>\n",
       "      <td>kind: yarn_am_rm_token, service: , ident: (app...</td>\n",
       "      <td>hadoop</td>\n",
       "      <td>Process: main</td>\n",
       "      <td>2015-10-18 18:01:48.963</td>\n",
       "      <td>{\"Timestamp\": \"2015-10-18T18:01:48.963000\", \"L...</td>\n",
       "      <td>['kind', ':', 'yarn', '_', 'am', '_', 'rm', '_...</td>\n",
       "      <td>18</td>\n",
       "      <td>44</td>\n",
       "      <td>2</td>\n",
       "    </tr>\n",
       "    <tr>\n",
       "      <th>3</th>\n",
       "      <td>4</td>\n",
       "      <td>2015-10-18</td>\n",
       "      <td>18:01:49,228</td>\n",
       "      <td>INFO</td>\n",
       "      <td>org.apache.hadoop.mapreduce.v2.app.MRAppMaster</td>\n",
       "      <td>Using mapred newApiCommitter.</td>\n",
       "      <td>E111</td>\n",
       "      <td>using mapred newapicommitter.</td>\n",
       "      <td>hadoop</td>\n",
       "      <td>Process: main</td>\n",
       "      <td>2015-10-18 18:01:49.228</td>\n",
       "      <td>{\"Timestamp\": \"2015-10-18T18:01:49.228000\", \"L...</td>\n",
       "      <td>['using', 'map', '##red', 'new', '##ap', '##ic...</td>\n",
       "      <td>18</td>\n",
       "      <td>10</td>\n",
       "      <td>2</td>\n",
       "    </tr>\n",
       "    <tr>\n",
       "      <th>4</th>\n",
       "      <td>5</td>\n",
       "      <td>2015-10-18</td>\n",
       "      <td>18:01:50,353</td>\n",
       "      <td>INFO</td>\n",
       "      <td>org.apache.hadoop.mapreduce.v2.app.MRAppMaster</td>\n",
       "      <td>OutputCommitter set in config null</td>\n",
       "      <td>E76</td>\n",
       "      <td>outputcommitter set in config null</td>\n",
       "      <td>hadoop</td>\n",
       "      <td>Process: main</td>\n",
       "      <td>2015-10-18 18:01:50.353</td>\n",
       "      <td>{\"Timestamp\": \"2015-10-18T18:01:50.353000\", \"L...</td>\n",
       "      <td>['output', '##com', '##mit', '##ter', 'set', '...</td>\n",
       "      <td>18</td>\n",
       "      <td>10</td>\n",
       "      <td>2</td>\n",
       "    </tr>\n",
       "  </tbody>\n",
       "</table>\n",
       "</div>"
      ],
      "text/plain": [
       "   LineId        Date          Time Level  \\\n",
       "0       1  2015-10-18  18:01:47,978  INFO   \n",
       "1       2  2015-10-18  18:01:48,963  INFO   \n",
       "2       3  2015-10-18  18:01:48,963  INFO   \n",
       "3       4  2015-10-18  18:01:49,228  INFO   \n",
       "4       5  2015-10-18  18:01:50,353  INFO   \n",
       "\n",
       "                                        Component  \\\n",
       "0  org.apache.hadoop.mapreduce.v2.app.MRAppMaster   \n",
       "1  org.apache.hadoop.mapreduce.v2.app.MRAppMaster   \n",
       "2  org.apache.hadoop.mapreduce.v2.app.MRAppMaster   \n",
       "3  org.apache.hadoop.mapreduce.v2.app.MRAppMaster   \n",
       "4  org.apache.hadoop.mapreduce.v2.app.MRAppMaster   \n",
       "\n",
       "                                             Content EventId  \\\n",
       "0  Created MRAppMaster for application appattempt...     E29   \n",
       "1                             Executing with tokens:     E42   \n",
       "2  Kind: YARN_AM_RM_TOKEN, Service: , Ident: (app...     E61   \n",
       "3                      Using mapred newApiCommitter.    E111   \n",
       "4                 OutputCommitter set in config null     E76   \n",
       "\n",
       "                                       EventTemplate LogType  \\\n",
       "0  created mrappmaster for application appattempt...  hadoop   \n",
       "1                             executing with tokens:  hadoop   \n",
       "2  kind: yarn_am_rm_token, service: , ident: (app...  hadoop   \n",
       "3                      using mapred newapicommitter.  hadoop   \n",
       "4                 outputcommitter set in config null  hadoop   \n",
       "\n",
       "  AdditionalInformation                timestamp  \\\n",
       "0         Process: main  2015-10-18 18:01:47.978   \n",
       "1         Process: main  2015-10-18 18:01:48.963   \n",
       "2         Process: main  2015-10-18 18:01:48.963   \n",
       "3         Process: main  2015-10-18 18:01:49.228   \n",
       "4         Process: main  2015-10-18 18:01:50.353   \n",
       "\n",
       "                                               input  \\\n",
       "0  {\"Timestamp\": \"2015-10-18T18:01:47.978000\", \"L...   \n",
       "1  {\"Timestamp\": \"2015-10-18T18:01:48.963000\", \"L...   \n",
       "2  {\"Timestamp\": \"2015-10-18T18:01:48.963000\", \"L...   \n",
       "3  {\"Timestamp\": \"2015-10-18T18:01:49.228000\", \"L...   \n",
       "4  {\"Timestamp\": \"2015-10-18T18:01:50.353000\", \"L...   \n",
       "\n",
       "                                              tokens  Hour  Token_Count  \\\n",
       "0  ['created', 'mr', '##app', '##master', 'for', ...    18           12   \n",
       "1         ['executing', 'with', 'token', '##s', ':']    18            5   \n",
       "2  ['kind', ':', 'yarn', '_', 'am', '_', 'rm', '_...    18           44   \n",
       "3  ['using', 'map', '##red', 'new', '##ap', '##ic...    18           10   \n",
       "4  ['output', '##com', '##mit', '##ter', 'set', '...    18           10   \n",
       "\n",
       "   target  \n",
       "0       2  \n",
       "1       2  \n",
       "2       2  \n",
       "3       2  \n",
       "4       2  "
      ]
     },
     "execution_count": 64,
     "metadata": {},
     "output_type": "execute_result"
    }
   ],
   "source": [
    "info_data = data[data['Level']=='INFO']\n",
    "info_data.head()"
   ]
  },
  {
   "cell_type": "code",
   "execution_count": 65,
   "id": "cc95b3e6-7f21-450d-8315-799a61f6cfd2",
   "metadata": {},
   "outputs": [
    {
     "data": {
      "text/plain": [
       "LineId  Date        Time          Level  Component                                                   Content                                                                                                                                                                EventId  EventTemplate                                                                                                                                                              LogType    AdditionalInformation                    timestamp                input                                                                                                                                                                                                                                                                                                                                                                                                                                                                                                              tokens                                                                                                                                                                                                                                                                                                                                                                                                           Hour  Token_Count  target\n",
       "1       2015-07-29  17:41:44,747  INFO   0:0:0:0:0:0:0:2181:FastLeaderElection                       Notification time out: 3200                                                                                                                                            E31      notification time out: <var>                                                                                                                                               zookeeper  Node: QuorumPeer[myid=1]/0 Id: 774       2015-07-29 17:41:44.747  {\"Timestamp\": \"2015-07-29T17:41:44.747000\", \"LogType\": \"zookeeper\", \"Component\": \"0:0:0:0:0:0:0:2181:FastLeaderElection\", \"Content\": \"Notification time out: 3200\", \"EventId\": \"E31\", \"EventTemplate\": \"notification time out: <var>\"}                                                                                                                                                                                                                                                                             ['notification', 'time', 'out', ':', '<var>']                                                                                                                                                                                                                                                                                                                                                                    17    5            2         1\n",
       "992     2015-07-29  19:29:17,176  INFO   3888:QuorumCnxManager$Listener                              Received connection request /10.10.34.11:59852                                                                                                                         E40      received connection request /<var>:<var>                                                                                                                                   zookeeper  Node: /10.10.34.12 Id: 493               2015-07-29 19:29:17.176  {\"Timestamp\": \"2015-07-29T19:29:17.176000\", \"LogType\": \"zookeeper\", \"Component\": \"3888:QuorumCnxManager$Listener\", \"Content\": \"Received connection request /10.10.34.11:59852\", \"EventId\": \"E40\", \"EventTemplate\": \"received connection request /<var>:<var>\"}                                                                                                                                                                                                                                                     ['received', 'connection', 'request', '/', '<var>', ':', '<var>']                                                                                                                                                                                                                                                                                                                                                19    7            2         1\n",
       "989     2015-10-18  18:06:18,763  INFO   org.apache.hadoop.mapred.TaskAttemptListenerImpl            Progress of TaskAttempt attempt_1445144423722_0020_m_000001_0 is : 0.37551183                                                                                          E80      progress of taskattempt attempt_<var> is : <var>.<var>                                                                                                                     hadoop     Process: IPC Server handler 12 on 62270  2015-10-18 18:06:18.763  {\"Timestamp\": \"2015-10-18T18:06:18.763000\", \"LogType\": \"hadoop\", \"Component\": \"org.apache.hadoop.mapred.TaskAttemptListenerImpl\", \"Content\": \"Progress of TaskAttempt attempt_1445144423722_0020_m_000001_0 is : 0.37551183\", \"EventId\": \"E80\", \"EventTemplate\": \"progress of taskattempt attempt_<var> is : <var>.<var>\"}                                                                                                                                                                                         ['progress', 'of', 'task', '##att', '##em', '##pt', 'attempt', '_', '<var>', 'is', ':', '<var>', '.', '<var>']                                                                                                                                                                                                                                                                                                   18    14           2         1\n",
       "987     2015-10-18  18:06:18,045  INFO   org.apache.hadoop.ipc.Client                                Retrying connect to server: msra-sa-41:8030. Already tried 0 time(s); retry policy is RetryUpToMaximumCountWithFixedSleep(maxRetries=10, sleepTime=1000 MILLISECONDS)  E91      retrying connect to server: <var>:<var>. already tried <var> time(s); retry policy is retryuptomaximumcountwithfixedsleep(maxretries=<var>, sleeptime=<var> milliseconds)  hadoop     Process: RMCommunicator Allocator        2015-10-18 18:06:18.045  {\"Timestamp\": \"2015-10-18T18:06:18.045000\", \"LogType\": \"hadoop\", \"Component\": \"org.apache.hadoop.ipc.Client\", \"Content\": \"Retrying connect to server: msra-sa-41:8030. Already tried 0 time(s); retry policy is RetryUpToMaximumCountWithFixedSleep(maxRetries=10, sleepTime=1000 MILLISECONDS)\", \"EventId\": \"E91\", \"EventTemplate\": \"retrying connect to server: <var>:<var>. already tried <var> time(s); retry policy is retryuptomaximumcountwithfixedsleep(maxretries=<var>, sleeptime=<var> milliseconds)\"}  ['re', '##try', '##ing', 'connect', 'to', 'server', ':', '<var>', ':', '<var>', '.', 'already', 'tried', '<var>', 'time', '(', 's', ')', ';', 're', '##try', 'policy', 'is', 're', '##try', '##upt', '##oma', '##xi', '##mum', '##co', '##unt', '##with', '##fixed', '##sle', '##ep', '(', 'max', '##ret', '##ries', '=', '<var>', ',', 'sleep', '##time', '=', '<var>', 'mill', '##ise', '##con', '##ds', ')']  18    51           2         1\n",
       "985     2015-07-29  19:29:00,577  INFO   3888:QuorumCnxManager$Listener                              Received connection request /10.10.34.12:56339                                                                                                                         E40      received connection request /<var>:<var>                                                                                                                                   zookeeper  Node: /10.10.34.12 Id: 493               2015-07-29 19:29:00.577  {\"Timestamp\": \"2015-07-29T19:29:00.577000\", \"LogType\": \"zookeeper\", \"Component\": \"3888:QuorumCnxManager$Listener\", \"Content\": \"Received connection request /10.10.34.12:56339\", \"EventId\": \"E40\", \"EventTemplate\": \"received connection request /<var>:<var>\"}                                                                                                                                                                                                                                                     ['received', 'connection', 'request', '/', '<var>', ':', '<var>']                                                                                                                                                                                                                                                                                                                                                19    7            2         1\n",
       "                                                                                                                                                                                                                                                                                                                                                                                                                                                                                                                                                                                                                                                                                                                                                                                                                                                                                                                                                                                                                                                                                                                                                                                                                                                                                                                                                                                                                                                                                                             ..\n",
       "477     2015-10-18  18:03:42,907  INFO   org.apache.hadoop.mapreduce.v2.app.rm.RMContainerAllocator  Reduce slow start threshold not met. completedMapsForReduceSlowstart 1                                                                                                 E85      reduce slow start threshold not met. completedmapsforreduceslowstart <var>                                                                                                 hadoop     Process: RMCommunicator Allocator        2015-10-18 18:03:42.907  {\"Timestamp\": \"2015-10-18T18:03:42.907000\", \"LogType\": \"hadoop\", \"Component\": \"org.apache.hadoop.mapreduce.v2.app.rm.RMContainerAllocator\", \"Content\": \"Reduce slow start threshold not met. completedMapsForReduceSlowstart 1\", \"EventId\": \"E85\", \"EventTemplate\": \"reduce slow start threshold not met. completedmapsforreduceslowstart <var>\"}                                                                                                                                                                  ['reduce', 'slow', 'start', 'threshold', 'not', 'met', '.', 'completed', '##ma', '##ps', '##for', '##red', '##uce', '##slow', '##star', '##t', '<var>']                                                                                                                                                                                                                                                          18    17           2         1\n",
       "476     2015-10-18  18:03:42,907  INFO   org.apache.hadoop.mapreduce.v2.app.rm.RMContainerAllocator  Recalculating schedule, headroom=<memory:0, vCores:-27>                                                                                                                E83      recalculating schedule, headroom=<memory:<var>, vcores:<var>>                                                                                                              hadoop     Process: RMCommunicator Allocator        2015-10-18 18:03:42.907  {\"Timestamp\": \"2015-10-18T18:03:42.907000\", \"LogType\": \"hadoop\", \"Component\": \"org.apache.hadoop.mapreduce.v2.app.rm.RMContainerAllocator\", \"Content\": \"Recalculating schedule, headroom=<memory:0, vCores:-27>\", \"EventId\": \"E83\", \"EventTemplate\": \"recalculating schedule, headroom=<memory:<var>, vcores:<var>>\"}                                                                                                                                                                                              ['rec', '##al', '##cula', '##ting', 'schedule', ',', 'head', '##room', '=', '<', 'memory', ':', '<var>', ',', 'vc', '##ores', ':', '<var>', '>']                                                                                                                                                                                                                                                                 18    19           2         1\n",
       "        2015-07-29  19:36:43,049  INFO   3888:QuorumCnxManager$Listener                              Received connection request /10.10.34.13:33225                                                                                                                         E40      received connection request /<var>:<var>                                                                                                                                   zookeeper  Node: /10.10.34.11 Id: 493               2015-07-29 19:36:43.049  {\"Timestamp\": \"2015-07-29T19:36:43.049000\", \"LogType\": \"zookeeper\", \"Component\": \"3888:QuorumCnxManager$Listener\", \"Content\": \"Received connection request /10.10.34.13:33225\", \"EventId\": \"E40\", \"EventTemplate\": \"received connection request /<var>:<var>\"}                                                                                                                                                                                                                                                     ['received', 'connection', 'request', '/', '<var>', ':', '<var>']                                                                                                                                                                                                                                                                                                                                                19    7            2         1\n",
       "475     2015-10-18  18:03:42,719  INFO   org.apache.hadoop.mapred.TaskAttemptListenerImpl            Progress of TaskAttempt attempt_1445144423722_0020_m_000002_0 is : 0.26314905                                                                                          E80      progress of taskattempt attempt_<var> is : <var>.<var>                                                                                                                     hadoop     Process: IPC Server handler 4 on 62270   2015-10-18 18:03:42.719  {\"Timestamp\": \"2015-10-18T18:03:42.719000\", \"LogType\": \"hadoop\", \"Component\": \"org.apache.hadoop.mapred.TaskAttemptListenerImpl\", \"Content\": \"Progress of TaskAttempt attempt_1445144423722_0020_m_000002_0 is : 0.26314905\", \"EventId\": \"E80\", \"EventTemplate\": \"progress of taskattempt attempt_<var> is : <var>.<var>\"}                                                                                                                                                                                         ['progress', 'of', 'task', '##att', '##em', '##pt', 'attempt', '_', '<var>', 'is', ':', '<var>', '.', '<var>']                                                                                                                                                                                                                                                                                                   18    14           2         1\n",
       "2000    2015-08-10  18:12:34,004  INFO   3 cport:-1)::PrepRequestProcessor                           Processed session termination for sessionid: 0x24f0557806a0010                                                                                                         E38      processed session termination for sessionid: <var>                                                                                                                         zookeeper  Node: ProcessThread(sid Id: 476          2015-08-10 18:12:34.004  {\"Timestamp\": \"2015-08-10T18:12:34.004000\", \"LogType\": \"zookeeper\", \"Component\": \"3 cport:-1)::PrepRequestProcessor\", \"Content\": \"Processed session termination for sessionid: 0x24f0557806a0010\", \"EventId\": \"E38\", \"EventTemplate\": \"processed session termination for sessionid: <var>\"}                                                                                                                                                                                                                        ['processed', 'session', 'termination', 'for', 'session', '##id', ':', '<var>']                                                                                                                                                                                                                                                                                                                                  18    8            2         1\n",
       "Name: count, Length: 1709, dtype: int64"
      ]
     },
     "execution_count": 65,
     "metadata": {},
     "output_type": "execute_result"
    }
   ],
   "source": []
  },
  {
   "cell_type": "code",
   "execution_count": 38,
   "id": "88c556b4-40c4-4218-af01-eecbb632ed9e",
   "metadata": {},
   "outputs": [
    {
     "data": {
      "text/html": [
       "<div>\n",
       "<style scoped>\n",
       "    .dataframe tbody tr th:only-of-type {\n",
       "        vertical-align: middle;\n",
       "    }\n",
       "\n",
       "    .dataframe tbody tr th {\n",
       "        vertical-align: top;\n",
       "    }\n",
       "\n",
       "    .dataframe thead th {\n",
       "        text-align: right;\n",
       "    }\n",
       "</style>\n",
       "<table border=\"1\" class=\"dataframe\">\n",
       "  <thead>\n",
       "    <tr style=\"text-align: right;\">\n",
       "      <th></th>\n",
       "      <th>LineId</th>\n",
       "      <th>Date</th>\n",
       "      <th>Time</th>\n",
       "      <th>Level</th>\n",
       "      <th>Component</th>\n",
       "      <th>Content</th>\n",
       "      <th>EventId</th>\n",
       "      <th>EventTemplate</th>\n",
       "      <th>LogType</th>\n",
       "      <th>AdditionalInformation</th>\n",
       "      <th>timestamp</th>\n",
       "      <th>input</th>\n",
       "      <th>tokens</th>\n",
       "      <th>Hour</th>\n",
       "      <th>Token_Count</th>\n",
       "    </tr>\n",
       "  </thead>\n",
       "  <tbody>\n",
       "    <tr>\n",
       "      <th>1019</th>\n",
       "      <td>1020</td>\n",
       "      <td>2015-10-18</td>\n",
       "      <td>18:06:26,029</td>\n",
       "      <td>FATAL</td>\n",
       "      <td>org.apache.hadoop.mapred.TaskAttemptListenerImpl</td>\n",
       "      <td>Task: attempt_1445144423722_0020_m_000002_0 - ...</td>\n",
       "      <td>E101</td>\n",
       "      <td>task: attempt_&lt;var&gt; - exited : java.net.norout...</td>\n",
       "      <td>hadoop</td>\n",
       "      <td>Process: IPC Server handler 13 on 62270</td>\n",
       "      <td>2015-10-18 18:06:26.029</td>\n",
       "      <td>{\"Timestamp\": \"2015-10-18T18:06:26.029000\", \"L...</td>\n",
       "      <td>['task', ':', 'attempt', '_', '&lt;var&gt;', '-', 'e...</td>\n",
       "      <td>18</td>\n",
       "      <td>87</td>\n",
       "    </tr>\n",
       "    <tr>\n",
       "      <th>1052</th>\n",
       "      <td>1053</td>\n",
       "      <td>2015-10-18</td>\n",
       "      <td>18:06:28,217</td>\n",
       "      <td>FATAL</td>\n",
       "      <td>org.apache.hadoop.mapred.TaskAttemptListenerImpl</td>\n",
       "      <td>Task: attempt_1445144423722_0020_m_000001_0 - ...</td>\n",
       "      <td>E101</td>\n",
       "      <td>task: attempt_&lt;var&gt; - exited : java.net.norout...</td>\n",
       "      <td>hadoop</td>\n",
       "      <td>Process: IPC Server handler 4 on 62270</td>\n",
       "      <td>2015-10-18 18:06:28.217</td>\n",
       "      <td>{\"Timestamp\": \"2015-10-18T18:06:28.217000\", \"L...</td>\n",
       "      <td>['task', ':', 'attempt', '_', '&lt;var&gt;', '-', 'e...</td>\n",
       "      <td>18</td>\n",
       "      <td>87</td>\n",
       "    </tr>\n",
       "  </tbody>\n",
       "</table>\n",
       "</div>"
      ],
      "text/plain": [
       "      LineId        Date          Time  Level  \\\n",
       "1019    1020  2015-10-18  18:06:26,029  FATAL   \n",
       "1052    1053  2015-10-18  18:06:28,217  FATAL   \n",
       "\n",
       "                                             Component  \\\n",
       "1019  org.apache.hadoop.mapred.TaskAttemptListenerImpl   \n",
       "1052  org.apache.hadoop.mapred.TaskAttemptListenerImpl   \n",
       "\n",
       "                                                Content EventId  \\\n",
       "1019  Task: attempt_1445144423722_0020_m_000002_0 - ...    E101   \n",
       "1052  Task: attempt_1445144423722_0020_m_000001_0 - ...    E101   \n",
       "\n",
       "                                          EventTemplate LogType  \\\n",
       "1019  task: attempt_<var> - exited : java.net.norout...  hadoop   \n",
       "1052  task: attempt_<var> - exited : java.net.norout...  hadoop   \n",
       "\n",
       "                        AdditionalInformation                timestamp  \\\n",
       "1019  Process: IPC Server handler 13 on 62270  2015-10-18 18:06:26.029   \n",
       "1052   Process: IPC Server handler 4 on 62270  2015-10-18 18:06:28.217   \n",
       "\n",
       "                                                  input  \\\n",
       "1019  {\"Timestamp\": \"2015-10-18T18:06:26.029000\", \"L...   \n",
       "1052  {\"Timestamp\": \"2015-10-18T18:06:28.217000\", \"L...   \n",
       "\n",
       "                                                 tokens  Hour  Token_Count  \n",
       "1019  ['task', ':', 'attempt', '_', '<var>', '-', 'e...    18           87  \n",
       "1052  ['task', ':', 'attempt', '_', '<var>', '-', 'e...    18           87  "
      ]
     },
     "execution_count": 38,
     "metadata": {},
     "output_type": "execute_result"
    }
   ],
   "source": [
    "fatal_data = data[data['Level']=='FATAL']\n",
    "fatal_data"
   ]
  },
  {
   "cell_type": "code",
   "execution_count": 39,
   "id": "542ee7bf-d26d-4ea3-82a8-bfc7433258aa",
   "metadata": {},
   "outputs": [
    {
     "data": {
      "text/plain": [
       "'{\"Timestamp\": \"2015-10-18T18:01:47.978000\", \"LogType\": \"hadoop\", \"Component\": \"org.apache.hadoop.mapreduce.v2.app.MRAppMaster\", \"Content\": \"Created MRAppMaster for application appattempt_1445144423722_0020_000001\", \"EventId\": \"E29\", \"EventTemplate\": \"created mrappmaster for application appattempt_<var>\"}'"
      ]
     },
     "execution_count": 39,
     "metadata": {},
     "output_type": "execute_result"
    }
   ],
   "source": [
    "data['input'][0]"
   ]
  },
  {
   "cell_type": "code",
   "execution_count": 40,
   "id": "cf91f5f5-1994-44d8-99ce-bd8d7afee1e9",
   "metadata": {},
   "outputs": [],
   "source": [
    "from sklearn.preprocessing import LabelEncoder\n",
    "\n",
    "le = LabelEncoder()\n",
    "data['target'] = le.fit_transform(data['Level'])"
   ]
  },
  {
   "cell_type": "code",
   "execution_count": 41,
   "id": "8e4edfdb-dbff-4990-8de5-038ff43ba9d0",
   "metadata": {},
   "outputs": [
    {
     "name": "stdout",
     "output_type": "stream",
     "text": [
      "   target  Level\n",
      "0       2   INFO\n",
      "1       0  ERROR\n",
      "2       3   WARN\n",
      "3       1  FATAL\n"
     ]
    }
   ],
   "source": [
    "unique_mapping = data[['target', 'Level']].drop_duplicates().reset_index(drop=True)\n",
    "print(unique_mapping)"
   ]
  },
  {
   "cell_type": "code",
   "execution_count": 42,
   "id": "e2418688-cb94-4cb0-8a5f-7c046426b078",
   "metadata": {},
   "outputs": [],
   "source": [
    "X = data['input']\n",
    "y = data['target']"
   ]
  },
  {
   "cell_type": "code",
   "execution_count": 43,
   "id": "d7a8a8e1-814c-4025-bdac-dd55a6b093b7",
   "metadata": {},
   "outputs": [
    {
     "name": "stdout",
     "output_type": "stream",
     "text": [
      "0       2\n",
      "1       2\n",
      "2       2\n",
      "3       2\n",
      "4       2\n",
      "       ..\n",
      "3995    2\n",
      "3996    2\n",
      "3997    2\n",
      "3998    2\n",
      "3999    2\n",
      "Name: target, Length: 4000, dtype: int64\n"
     ]
    }
   ],
   "source": [
    "print(y)"
   ]
  },
  {
   "cell_type": "code",
   "execution_count": 44,
   "id": "4a17c984-00fa-48a0-8918-c46c85fca965",
   "metadata": {},
   "outputs": [],
   "source": [
    "X_train, X_test, y_train, y_test = train_test_split(X,y,test_size=0.2, random_state=42, stratify=y)"
   ]
  },
  {
   "cell_type": "code",
   "execution_count": 45,
   "id": "d1bf3a30-4d63-46d3-adb1-a726793b0eaa",
   "metadata": {},
   "outputs": [
    {
     "name": "stderr",
     "output_type": "stream",
     "text": [
      "Some weights of DistilBertForSequenceClassification were not initialized from the model checkpoint at distilbert-base-uncased and are newly initialized: ['classifier.bias', 'classifier.weight', 'pre_classifier.bias', 'pre_classifier.weight']\n",
      "You should probably TRAIN this model on a down-stream task to be able to use it for predictions and inference.\n"
     ]
    }
   ],
   "source": [
    "from transformers import AutoTokenizer, AutoModelForSequenceClassification\n",
    "\n",
    "tokenizer = AutoTokenizer.from_pretrained(\"distilbert-base-uncased\")\n",
    "model = AutoModelForSequenceClassification.from_pretrained(\"distilbert-base-uncased\", num_labels=3)"
   ]
  },
  {
   "cell_type": "code",
   "execution_count": 46,
   "id": "31900c8b-d084-45cc-a0c5-fb4d276b6db5",
   "metadata": {},
   "outputs": [
    {
     "data": {
      "text/plain": [
       "Embedding(30523, 768, padding_idx=0)"
      ]
     },
     "execution_count": 46,
     "metadata": {},
     "output_type": "execute_result"
    }
   ],
   "source": [
    "tokenizer.add_tokens([\"<VAR>\"])\n",
    "model.resize_token_embeddings(len(tokenizer))"
   ]
  },
  {
   "cell_type": "code",
   "execution_count": 47,
   "id": "e46d69a1-6d9f-4378-975d-e79bab0dbd64",
   "metadata": {},
   "outputs": [
    {
     "name": "stdout",
     "output_type": "stream",
     "text": [
      "933     3\n",
      "3090    2\n",
      "2724    3\n",
      "460     2\n",
      "3698    3\n",
      "       ..\n",
      "89      2\n",
      "3167    3\n",
      "1970    0\n",
      "929     2\n",
      "2803    3\n",
      "Name: target, Length: 3200, dtype: int64\n"
     ]
    }
   ],
   "source": [
    "print(y_train)"
   ]
  },
  {
   "cell_type": "code",
   "execution_count": 48,
   "id": "6c890e35-0ace-4456-a177-f699053f7e15",
   "metadata": {},
   "outputs": [
    {
     "data": {
      "application/vnd.jupyter.widget-view+json": {
       "model_id": "34fbb800df0a4ca9a83ee2523f202ecb",
       "version_major": 2,
       "version_minor": 0
      },
      "text/plain": [
       "Map:   0%|          | 0/3200 [00:00<?, ? examples/s]"
      ]
     },
     "metadata": {},
     "output_type": "display_data"
    },
    {
     "data": {
      "application/vnd.jupyter.widget-view+json": {
       "model_id": "72aa804e2a9f4707923b7b59b263e3c4",
       "version_major": 2,
       "version_minor": 0
      },
      "text/plain": [
       "Map:   0%|          | 0/800 [00:00<?, ? examples/s]"
      ]
     },
     "metadata": {},
     "output_type": "display_data"
    }
   ],
   "source": [
    "from datasets import Dataset\n",
    "\n",
    "train_dataset = Dataset.from_dict({\"text\": X_train, \"label\": y_train})\n",
    "test_dataset = Dataset.from_dict({\"text\": X_test, \"label\": y_test})\n",
    "\n",
    "def tokenize(batch):\n",
    "    return tokenizer(batch[\"text\"], padding=\"max_length\", truncation=True)\n",
    "\n",
    "train_tokenized = train_dataset.map(tokenize, batched=True)\n",
    "test_tokenized = test_dataset.map(tokenize, batched=True)"
   ]
  },
  {
   "cell_type": "code",
   "execution_count": 49,
   "id": "1b279303-49a8-4f14-b192-7f72810d83a6",
   "metadata": {},
   "outputs": [
    {
     "data": {
      "text/plain": [
       "Dataset({\n",
       "    features: ['text', 'label'],\n",
       "    num_rows: 3200\n",
       "})"
      ]
     },
     "execution_count": 49,
     "metadata": {},
     "output_type": "execute_result"
    }
   ],
   "source": [
    "train_dataset"
   ]
  },
  {
   "cell_type": "code",
   "execution_count": 50,
   "id": "010564bc-f182-4bb8-a4c9-22bc35768e3c",
   "metadata": {},
   "outputs": [
    {
     "name": "stderr",
     "output_type": "stream",
     "text": [
      "/opt/homebrew/Caskroom/miniconda/base/lib/python3.12/site-packages/torch/utils/data/dataloader.py:684: UserWarning: 'pin_memory' argument is set as true but not supported on MPS now, then device pinned memory won't be used.\n",
      "  warnings.warn(warn_msg)\n"
     ]
    },
    {
     "data": {
      "text/html": [
       "\n",
       "    <div>\n",
       "      \n",
       "      <progress value='600' max='600' style='width:300px; height:20px; vertical-align: middle;'></progress>\n",
       "      [600/600 03:41, Epoch 3/3]\n",
       "    </div>\n",
       "    <table border=\"1\" class=\"dataframe\">\n",
       "  <thead>\n",
       " <tr style=\"text-align: left;\">\n",
       "      <th>Step</th>\n",
       "      <th>Training Loss</th>\n",
       "    </tr>\n",
       "  </thead>\n",
       "  <tbody>\n",
       "    <tr>\n",
       "      <td>500</td>\n",
       "      <td>0.021200</td>\n",
       "    </tr>\n",
       "  </tbody>\n",
       "</table><p>"
      ],
      "text/plain": [
       "<IPython.core.display.HTML object>"
      ]
     },
     "metadata": {},
     "output_type": "display_data"
    },
    {
     "data": {
      "text/plain": [
       "TrainOutput(global_step=600, training_loss=0.019533191720644633, metrics={'train_runtime': 222.3265, 'train_samples_per_second': 43.18, 'train_steps_per_second': 2.699, 'total_flos': 1271709705830400.0, 'train_loss': 0.019533191720644633, 'epoch': 3.0})"
      ]
     },
     "execution_count": 50,
     "metadata": {},
     "output_type": "execute_result"
    }
   ],
   "source": [
    "from transformers import TrainingArguments, Trainer\n",
    "\n",
    "training_args = TrainingArguments(\n",
    "    output_dir=\"./model_output\",\n",
    "    per_device_train_batch_size=16,\n",
    "    num_train_epochs=3,\n",
    "    logging_dir=\"./logs\",\n",
    ")\n",
    "\n",
    "trainer = Trainer(\n",
    "    model=model,\n",
    "    args=training_args,\n",
    "    train_dataset=train_tokenized,\n",
    "    eval_dataset=test_tokenized,\n",
    ")\n",
    "trainer.train()"
   ]
  },
  {
   "cell_type": "code",
   "execution_count": 51,
   "id": "e3c6307c-faf4-4ddb-903e-8354a9abbcd4",
   "metadata": {},
   "outputs": [
    {
     "name": "stderr",
     "output_type": "stream",
     "text": [
      "/opt/homebrew/Caskroom/miniconda/base/lib/python3.12/site-packages/torch/utils/data/dataloader.py:684: UserWarning: 'pin_memory' argument is set as true but not supported on MPS now, then device pinned memory won't be used.\n",
      "  warnings.warn(warn_msg)\n"
     ]
    },
    {
     "data": {
      "text/html": [
       "\n",
       "    <div>\n",
       "      \n",
       "      <progress value='100' max='100' style='width:300px; height:20px; vertical-align: middle;'></progress>\n",
       "      [100/100 00:04]\n",
       "    </div>\n",
       "    "
      ],
      "text/plain": [
       "<IPython.core.display.HTML object>"
      ]
     },
     "metadata": {},
     "output_type": "display_data"
    },
    {
     "data": {
      "text/plain": [
       "{'eval_loss': 0.009897788986563683,\n",
       " 'eval_runtime': 4.6888,\n",
       " 'eval_samples_per_second': 170.618,\n",
       " 'eval_steps_per_second': 21.327,\n",
       " 'epoch': 3.0}"
      ]
     },
     "execution_count": 51,
     "metadata": {},
     "output_type": "execute_result"
    }
   ],
   "source": [
    "trainer.evaluate()"
   ]
  },
  {
   "cell_type": "code",
   "execution_count": 54,
   "id": "3f930b1d-39d8-470d-8e17-eed4ddb00359",
   "metadata": {},
   "outputs": [],
   "source": [
    "# save the model"
   ]
  },
  {
   "cell_type": "code",
   "execution_count": 53,
   "id": "0925f333-0dcb-41b2-bd9f-d62faaa68434",
   "metadata": {},
   "outputs": [
    {
     "data": {
      "text/plain": [
       "('./distilbert-log-classifier/tokenizer_config.json',\n",
       " './distilbert-log-classifier/special_tokens_map.json',\n",
       " './distilbert-log-classifier/vocab.txt',\n",
       " './distilbert-log-classifier/added_tokens.json',\n",
       " './distilbert-log-classifier/tokenizer.json')"
      ]
     },
     "execution_count": 53,
     "metadata": {},
     "output_type": "execute_result"
    }
   ],
   "source": [
    "trainer.save_model(\"./distilbert-log-classifier\")\n",
    "tokenizer.save_pretrained(\"./distilbert-log-classifier\")"
   ]
  },
  {
   "cell_type": "code",
   "execution_count": null,
   "id": "1eabe104-47be-440d-96b0-80864e6e9333",
   "metadata": {},
   "outputs": [],
   "source": [
    "# Load for Inference"
   ]
  },
  {
   "cell_type": "code",
   "execution_count": 55,
   "id": "185ccb35-8a90-465e-abba-8a90df47427a",
   "metadata": {},
   "outputs": [],
   "source": [
    "from transformers import AutoTokenizer, AutoModelForSequenceClassification\n",
    "\n",
    "model = AutoModelForSequenceClassification.from_pretrained(\"./distilbert-log-classifier\")\n",
    "tokenizer = AutoTokenizer.from_pretrained(\"./distilbert-log-classifier\")"
   ]
  },
  {
   "cell_type": "code",
   "execution_count": 56,
   "id": "1d824f53-d6de-46b2-812d-24aa5e6ba25c",
   "metadata": {},
   "outputs": [],
   "source": [
    "# Predict Severity"
   ]
  },
  {
   "cell_type": "code",
   "execution_count": 67,
   "id": "99302bd4-9768-4eff-9907-dca21b7e6750",
   "metadata": {},
   "outputs": [],
   "source": [
    "def predict_severity(text):\n",
    "    inputs = tokenizer(text, return_tensors=\"pt\", padding=True, truncation=True)\n",
    "    outputs = model(**inputs)\n",
    "    pred = outputs.logits.argmax(dim=1).item()\n",
    "    print(\"pred : \" ,pred)\n",
    "    severity_label = le.inverse_transform([pred])[0]  # Converts 0 → 'FATAL', etc.\n",
    "    return severity_label"
   ]
  },
  {
   "cell_type": "code",
   "execution_count": 60,
   "id": "00b8894f-0f99-46b4-9493-84fbc43355ba",
   "metadata": {},
   "outputs": [],
   "source": [
    "# Validating / Testing the Classified error type"
   ]
  },
  {
   "cell_type": "code",
   "execution_count": 68,
   "id": "a0cdb392-6cac-45bf-bf6e-74c6f6f90f0a",
   "metadata": {},
   "outputs": [
    {
     "name": "stdout",
     "output_type": "stream",
     "text": [
      "pred :  0\n",
      "ERROR\n"
     ]
    }
   ],
   "source": [
    "log_text = \"Failed to renew lease for [DFSClient_NONMAPRED...\"\n",
    "print(predict_severity(log_text))  # Output: 'WARN'"
   ]
  },
  {
   "cell_type": "code",
   "execution_count": 69,
   "id": "5404741f-b443-4420-ae80-5b5aca9a7838",
   "metadata": {},
   "outputs": [
    {
     "name": "stdout",
     "output_type": "stream",
     "text": [
      "pred :  2\n",
      "INFO\n"
     ]
    }
   ],
   "source": [
    "log_text_component = \"Created MRAppMaster for application appattempt_1445144423722_0020_000001\"\n",
    "print(predict_severity(log_text_component)) "
   ]
  },
  {
   "cell_type": "markdown",
   "id": "121cfaef-0511-4db3-9e80-aab0eb5cc57a",
   "metadata": {},
   "source": [
    "# CHATBOT"
   ]
  },
  {
   "cell_type": "code",
   "execution_count": 17,
   "id": "078e7bd1-e0c9-465f-a9a3-6b3c86a54904",
   "metadata": {},
   "outputs": [
    {
     "name": "stderr",
     "output_type": "stream",
     "text": [
      "huggingface/tokenizers: The current process just got forked, after parallelism has already been used. Disabling parallelism to avoid deadlocks...\n",
      "To disable this warning, you can either:\n",
      "\t- Avoid using `tokenizers` before the fork if possible\n",
      "\t- Explicitly set the environment variable TOKENIZERS_PARALLELISM=(true | false)\n"
     ]
    },
    {
     "name": "stdout",
     "output_type": "stream",
     "text": [
      "Requirement already satisfied: protobuf in /opt/homebrew/Caskroom/miniconda/base/lib/python3.12/site-packages (6.32.1)\n",
      "Note: you may need to restart the kernel to use updated packages.\n"
     ]
    }
   ],
   "source": [
    "pip install protobuf"
   ]
  },
  {
   "cell_type": "code",
   "execution_count": 70,
   "id": "5039371b-648c-4a8d-8339-9105179d7075",
   "metadata": {},
   "outputs": [],
   "source": [
    "from transformers import AutoTokenizer, AutoModelForSequenceClassification\n",
    "\n",
    "tokenizer = AutoTokenizer.from_pretrained(\"./distilbert-log-classifier\", local_files_only=True)\n",
    "model = AutoModelForSequenceClassification.from_pretrained(\"./distilbert-log-classifier\", local_files_only=True)"
   ]
  },
  {
   "cell_type": "code",
   "execution_count": 19,
   "id": "2a2004d3-14ef-4817-91d9-03aec5288c2b",
   "metadata": {},
   "outputs": [
    {
     "name": "stdout",
     "output_type": "stream",
     "text": [
      "2\n"
     ]
    }
   ],
   "source": [
    "log_input = \"org.apache.hadoop.mapreduce.v2.app.MRAppMaster | Created MRAppMaster for application appattempt_1445144423722_0020_000001 | created mrappmaster for application appattempt_<VAR>\"\n",
    "tokens = tokenizer(log_input, return_tensors=\"pt\", truncation=True, padding=True)\n",
    "output = model(**tokens)\n",
    "predicted_class = torch.argmax(output.logits, dim=1).item()\n",
    "print(predicted_class)  # Should be an integer like 0, 1, or 2"
   ]
  },
  {
   "cell_type": "markdown",
   "id": "3d60030c-fb79-47af-b83f-2cc503ef0a5f",
   "metadata": {},
   "source": [
    "target  Level\n",
    "0       2   INFO\n",
    "1       0  ERROR\n",
    "2       3   WARN\n",
    "3       1  FATAL"
   ]
  },
  {
   "cell_type": "code",
   "execution_count": 26,
   "id": "71647aca-a20e-4182-849a-4745b92ebaf8",
   "metadata": {},
   "outputs": [
    {
     "name": "stdout",
     "output_type": "stream",
     "text": [
      "INFO\n"
     ]
    }
   ],
   "source": [
    "label_map = {0: \"ERROR\", 1: \"FATAL\", 2: \"INFO\", 3: \"WARN\"}\n",
    "print(label_map[predicted_class])"
   ]
  },
  {
   "cell_type": "code",
   "execution_count": 22,
   "id": "9745b238-07f6-4030-8c1d-273197538971",
   "metadata": {},
   "outputs": [
    {
     "name": "stderr",
     "output_type": "stream",
     "text": [
      "huggingface/tokenizers: The current process just got forked, after parallelism has already been used. Disabling parallelism to avoid deadlocks...\n",
      "To disable this warning, you can either:\n",
      "\t- Avoid using `tokenizers` before the fork if possible\n",
      "\t- Explicitly set the environment variable TOKENIZERS_PARALLELISM=(true | false)\n"
     ]
    },
    {
     "name": "stdout",
     "output_type": "stream",
     "text": [
      "Requirement already satisfied: gradio in /opt/homebrew/Caskroom/miniconda/base/lib/python3.12/site-packages (5.47.2)\n",
      "Requirement already satisfied: aiofiles<25.0,>=22.0 in /opt/homebrew/Caskroom/miniconda/base/lib/python3.12/site-packages (from gradio) (24.1.0)\n",
      "Requirement already satisfied: anyio<5.0,>=3.0 in /opt/homebrew/Caskroom/miniconda/base/lib/python3.12/site-packages (from gradio) (4.7.0)\n",
      "Requirement already satisfied: brotli>=1.1.0 in /opt/homebrew/Caskroom/miniconda/base/lib/python3.12/site-packages (from gradio) (1.1.0)\n",
      "Requirement already satisfied: fastapi<1.0,>=0.115.2 in /opt/homebrew/Caskroom/miniconda/base/lib/python3.12/site-packages (from gradio) (0.118.0)\n",
      "Requirement already satisfied: ffmpy in /opt/homebrew/Caskroom/miniconda/base/lib/python3.12/site-packages (from gradio) (0.6.1)\n",
      "Requirement already satisfied: gradio-client==1.13.3 in /opt/homebrew/Caskroom/miniconda/base/lib/python3.12/site-packages (from gradio) (1.13.3)\n",
      "Requirement already satisfied: groovy~=0.1 in /opt/homebrew/Caskroom/miniconda/base/lib/python3.12/site-packages (from gradio) (0.1.2)\n",
      "Requirement already satisfied: httpx<1.0,>=0.24.1 in /opt/homebrew/Caskroom/miniconda/base/lib/python3.12/site-packages (from gradio) (0.28.0)\n",
      "Requirement already satisfied: huggingface-hub<2.0,>=0.33.5 in /opt/homebrew/Caskroom/miniconda/base/lib/python3.12/site-packages (from gradio) (0.34.4)\n",
      "Requirement already satisfied: jinja2<4.0 in /opt/homebrew/Caskroom/miniconda/base/lib/python3.12/site-packages (from gradio) (3.1.4)\n",
      "Requirement already satisfied: markupsafe<4.0,>=2.0 in /opt/homebrew/Caskroom/miniconda/base/lib/python3.12/site-packages (from gradio) (2.1.3)\n",
      "Requirement already satisfied: numpy<3.0,>=1.0 in /opt/homebrew/Caskroom/miniconda/base/lib/python3.12/site-packages (from gradio) (2.2.4)\n",
      "Requirement already satisfied: orjson~=3.0 in /opt/homebrew/Caskroom/miniconda/base/lib/python3.12/site-packages (from gradio) (3.11.3)\n",
      "Requirement already satisfied: packaging in /opt/homebrew/Caskroom/miniconda/base/lib/python3.12/site-packages (from gradio) (24.1)\n",
      "Requirement already satisfied: pandas<3.0,>=1.0 in /opt/homebrew/Caskroom/miniconda/base/lib/python3.12/site-packages (from gradio) (2.2.3)\n",
      "Requirement already satisfied: pillow<12.0,>=8.0 in /opt/homebrew/Caskroom/miniconda/base/lib/python3.12/site-packages (from gradio) (11.1.0)\n",
      "Requirement already satisfied: pydantic<2.12,>=2.0 in /opt/homebrew/Caskroom/miniconda/base/lib/python3.12/site-packages (from gradio) (2.10.6)\n",
      "Requirement already satisfied: pydub in /opt/homebrew/Caskroom/miniconda/base/lib/python3.12/site-packages (from gradio) (0.25.1)\n",
      "Requirement already satisfied: python-multipart>=0.0.18 in /opt/homebrew/Caskroom/miniconda/base/lib/python3.12/site-packages (from gradio) (0.0.20)\n",
      "Requirement already satisfied: pyyaml<7.0,>=5.0 in /opt/homebrew/Caskroom/miniconda/base/lib/python3.12/site-packages (from gradio) (6.0.2)\n",
      "Requirement already satisfied: ruff>=0.9.3 in /opt/homebrew/Caskroom/miniconda/base/lib/python3.12/site-packages (from gradio) (0.13.2)\n",
      "Requirement already satisfied: safehttpx<0.2.0,>=0.1.6 in /opt/homebrew/Caskroom/miniconda/base/lib/python3.12/site-packages (from gradio) (0.1.6)\n",
      "Requirement already satisfied: semantic-version~=2.0 in /opt/homebrew/Caskroom/miniconda/base/lib/python3.12/site-packages (from gradio) (2.10.0)\n",
      "Requirement already satisfied: starlette<1.0,>=0.40.0 in /opt/homebrew/Caskroom/miniconda/base/lib/python3.12/site-packages (from gradio) (0.48.0)\n",
      "Requirement already satisfied: tomlkit<0.14.0,>=0.12.0 in /opt/homebrew/Caskroom/miniconda/base/lib/python3.12/site-packages (from gradio) (0.13.3)\n",
      "Requirement already satisfied: typer<1.0,>=0.12 in /opt/homebrew/Caskroom/miniconda/base/lib/python3.12/site-packages (from gradio) (0.15.2)\n",
      "Requirement already satisfied: typing-extensions~=4.0 in /opt/homebrew/Caskroom/miniconda/base/lib/python3.12/site-packages (from gradio) (4.12.2)\n",
      "Requirement already satisfied: uvicorn>=0.14.0 in /opt/homebrew/Caskroom/miniconda/base/lib/python3.12/site-packages (from gradio) (0.37.0)\n",
      "Requirement already satisfied: fsspec in /opt/homebrew/Caskroom/miniconda/base/lib/python3.12/site-packages (from gradio-client==1.13.3->gradio) (2025.3.0)\n",
      "Requirement already satisfied: websockets<16.0,>=13.0 in /opt/homebrew/Caskroom/miniconda/base/lib/python3.12/site-packages (from gradio-client==1.13.3->gradio) (15.0.1)\n",
      "Requirement already satisfied: idna>=2.8 in /opt/homebrew/Caskroom/miniconda/base/lib/python3.12/site-packages (from anyio<5.0,>=3.0->gradio) (3.7)\n",
      "Requirement already satisfied: sniffio>=1.1 in /opt/homebrew/Caskroom/miniconda/base/lib/python3.12/site-packages (from anyio<5.0,>=3.0->gradio) (1.3.1)\n",
      "Requirement already satisfied: certifi in /opt/homebrew/Caskroom/miniconda/base/lib/python3.12/site-packages (from httpx<1.0,>=0.24.1->gradio) (2025.4.26)\n",
      "Requirement already satisfied: httpcore==1.* in /opt/homebrew/Caskroom/miniconda/base/lib/python3.12/site-packages (from httpx<1.0,>=0.24.1->gradio) (1.0.2)\n",
      "Requirement already satisfied: h11<0.15,>=0.13 in /opt/homebrew/Caskroom/miniconda/base/lib/python3.12/site-packages (from httpcore==1.*->httpx<1.0,>=0.24.1->gradio) (0.14.0)\n",
      "Requirement already satisfied: filelock in /opt/homebrew/Caskroom/miniconda/base/lib/python3.12/site-packages (from huggingface-hub<2.0,>=0.33.5->gradio) (3.19.1)\n",
      "Requirement already satisfied: requests in /opt/homebrew/Caskroom/miniconda/base/lib/python3.12/site-packages (from huggingface-hub<2.0,>=0.33.5->gradio) (2.32.3)\n",
      "Requirement already satisfied: tqdm>=4.42.1 in /opt/homebrew/Caskroom/miniconda/base/lib/python3.12/site-packages (from huggingface-hub<2.0,>=0.33.5->gradio) (4.66.5)\n",
      "Requirement already satisfied: hf-xet<2.0.0,>=1.1.3 in /opt/homebrew/Caskroom/miniconda/base/lib/python3.12/site-packages (from huggingface-hub<2.0,>=0.33.5->gradio) (1.1.10)\n",
      "Requirement already satisfied: python-dateutil>=2.8.2 in /opt/homebrew/Caskroom/miniconda/base/lib/python3.12/site-packages (from pandas<3.0,>=1.0->gradio) (2.9.0.post0)\n",
      "Requirement already satisfied: pytz>=2020.1 in /opt/homebrew/Caskroom/miniconda/base/lib/python3.12/site-packages (from pandas<3.0,>=1.0->gradio) (2024.1)\n",
      "Requirement already satisfied: tzdata>=2022.7 in /opt/homebrew/Caskroom/miniconda/base/lib/python3.12/site-packages (from pandas<3.0,>=1.0->gradio) (2023.3)\n",
      "Requirement already satisfied: annotated-types>=0.6.0 in /opt/homebrew/Caskroom/miniconda/base/lib/python3.12/site-packages (from pydantic<2.12,>=2.0->gradio) (0.7.0)\n",
      "Requirement already satisfied: pydantic-core==2.27.2 in /opt/homebrew/Caskroom/miniconda/base/lib/python3.12/site-packages (from pydantic<2.12,>=2.0->gradio) (2.27.2)\n",
      "Requirement already satisfied: click>=8.0.0 in /opt/homebrew/Caskroom/miniconda/base/lib/python3.12/site-packages (from typer<1.0,>=0.12->gradio) (8.1.8)\n",
      "Requirement already satisfied: shellingham>=1.3.0 in /opt/homebrew/Caskroom/miniconda/base/lib/python3.12/site-packages (from typer<1.0,>=0.12->gradio) (1.5.4)\n",
      "Requirement already satisfied: rich>=10.11.0 in /opt/homebrew/Caskroom/miniconda/base/lib/python3.12/site-packages (from typer<1.0,>=0.12->gradio) (14.0.0)\n",
      "Requirement already satisfied: six>=1.5 in /opt/homebrew/Caskroom/miniconda/base/lib/python3.12/site-packages (from python-dateutil>=2.8.2->pandas<3.0,>=1.0->gradio) (1.16.0)\n",
      "Requirement already satisfied: markdown-it-py>=2.2.0 in /opt/homebrew/Caskroom/miniconda/base/lib/python3.12/site-packages (from rich>=10.11.0->typer<1.0,>=0.12->gradio) (3.0.0)\n",
      "Requirement already satisfied: pygments<3.0.0,>=2.13.0 in /opt/homebrew/Caskroom/miniconda/base/lib/python3.12/site-packages (from rich>=10.11.0->typer<1.0,>=0.12->gradio) (2.15.1)\n",
      "Requirement already satisfied: charset-normalizer<4,>=2 in /opt/homebrew/Caskroom/miniconda/base/lib/python3.12/site-packages (from requests->huggingface-hub<2.0,>=0.33.5->gradio) (3.3.2)\n",
      "Requirement already satisfied: urllib3<3,>=1.21.1 in /opt/homebrew/Caskroom/miniconda/base/lib/python3.12/site-packages (from requests->huggingface-hub<2.0,>=0.33.5->gradio) (2.2.3)\n",
      "Requirement already satisfied: mdurl~=0.1 in /opt/homebrew/Caskroom/miniconda/base/lib/python3.12/site-packages (from markdown-it-py>=2.2.0->rich>=10.11.0->typer<1.0,>=0.12->gradio) (0.1.2)\n",
      "Note: you may need to restart the kernel to use updated packages.\n"
     ]
    }
   ],
   "source": [
    "pip install gradio"
   ]
  },
  {
   "cell_type": "code",
   "execution_count": 27,
   "id": "6b8375ba-92e8-4b97-a236-f231c0e54c97",
   "metadata": {},
   "outputs": [
    {
     "name": "stdout",
     "output_type": "stream",
     "text": [
      "* Running on local URL:  http://127.0.0.1:7862\n",
      "* To create a public link, set `share=True` in `launch()`.\n"
     ]
    },
    {
     "data": {
      "text/html": [
       "<div><iframe src=\"http://127.0.0.1:7862/\" width=\"100%\" height=\"500\" allow=\"autoplay; camera; microphone; clipboard-read; clipboard-write;\" frameborder=\"0\" allowfullscreen></iframe></div>"
      ],
      "text/plain": [
       "<IPython.core.display.HTML object>"
      ]
     },
     "metadata": {},
     "output_type": "display_data"
    },
    {
     "data": {
      "text/plain": []
     },
     "execution_count": 27,
     "metadata": {},
     "output_type": "execute_result"
    }
   ],
   "source": [
    "import gradio as gr\n",
    "\n",
    "def classify_log(component, content, template):\n",
    "    input_text = f\"{component} | {content} | {template}\"\n",
    "    tokens = tokenizer(input_text, return_tensors=\"pt\", truncation=True, padding=True)\n",
    "    output = model(**tokens)\n",
    "    prediction = torch.argmax(output.logits, dim=1).item()\n",
    "    label_map = {0: \"ERROR\", 1: \"FATAL\", 2: \"INFO\", 3: \"WARN\"}\n",
    "    return label_map[prediction]\n",
    "\n",
    "gr.Interface(\n",
    "    fn=classify_log,\n",
    "    inputs=[\"text\", \"text\", \"text\"],\n",
    "    outputs=\"text\",\n",
    "    title=\"Log Level Classification Chatbot\"\n",
    ").launch()"
   ]
  },
  {
   "cell_type": "code",
   "execution_count": 33,
   "id": "4823548f-6b17-4fc4-b852-f8d66f513800",
   "metadata": {},
   "outputs": [
    {
     "name": "stdout",
     "output_type": "stream",
     "text": [
      "tensor([[-2.0562, -2.7824,  3.8771]], grad_fn=<AddmmBackward0>)\n"
     ]
    }
   ],
   "source": [
    "log_input = \"org.apache.hadoop.mapreduce.v2.app.MRAppMaster | Created MRAppMaster for application appattempt_1445144423722_0020_000001 | created mrappmaster for application appattempt_<VAR>\"\n",
    "tokens = tokenizer(log_input, return_tensors=\"pt\", truncation=True, padding=True)\n",
    "output = model(**tokens)\n",
    "print(output.logits)"
   ]
  }
 ],
 "metadata": {
  "kernelspec": {
   "display_name": "Python 3 (ipykernel)",
   "language": "python",
   "name": "python3"
  },
  "language_info": {
   "codemirror_mode": {
    "name": "ipython",
    "version": 3
   },
   "file_extension": ".py",
   "mimetype": "text/x-python",
   "name": "python",
   "nbconvert_exporter": "python",
   "pygments_lexer": "ipython3",
   "version": "3.12.7"
  }
 },
 "nbformat": 4,
 "nbformat_minor": 5
}
